{
 "cells": [
  {
   "cell_type": "code",
   "execution_count": 1,
   "metadata": {},
   "outputs": [],
   "source": [
    "# Convolutional Neural-Network"
   ]
  },
  {
   "cell_type": "code",
   "execution_count": 2,
   "metadata": {},
   "outputs": [
    {
     "name": "stderr",
     "output_type": "stream",
     "text": [
      "Using TensorFlow backend.\n"
     ]
    }
   ],
   "source": [
    "import numpy as np\n",
    "from keras.models import Sequential\n",
    "from keras.layers import Dense\n",
    "from keras.layers import Flatten\n",
    "from keras.layers.convolutional import Conv2D\n",
    "from keras.layers.convolutional import MaxPooling2D\n",
    "from keras.preprocessing.image import ImageDataGenerator\n",
    "\n",
    "# Fix random seed\n",
    "np.random.seed(3)"
   ]
  },
  {
   "cell_type": "code",
   "execution_count": 3,
   "metadata": {},
   "outputs": [],
   "source": [
    "# Define args for ImageDataGenerator to create a dataset from Images (to inflate the number of data)\n",
    "args = {\n",
    "    'rotation_range': 10, \n",
    "    'width_shift_range': 0.2,\n",
    "    'height_shift_range': 0.2, \n",
    "    'shear_range': 0.7, \n",
    "    'zoom_range': [0.9, 2.2],\n",
    "    'horizontal_flip': True,\n",
    "    'vertical_flip': True,\n",
    "    'fill_mode': 'nearest'\n",
    "}"
   ]
  },
  {
   "cell_type": "code",
   "execution_count": 4,
   "metadata": {},
   "outputs": [
    {
     "name": "stdout",
     "output_type": "stream",
     "text": [
      "Found 45 images belonging to 3 classes.\n",
      "Found 15 images belonging to 3 classes.\n"
     ]
    }
   ],
   "source": [
    "# Create dataset\n",
    "train_datagen = ImageDataGenerator(rescale=1./255, **args)\n",
    "train_generator = train_datagen.flow_from_directory(\n",
    "        'data/handmade-mnist/train',  # path to images\n",
    "        target_size=(24, 24),         # size of each image\n",
    "        batch_size=3,                 # batch size\n",
    "        class_mode='categorical')     # classification method to use\n",
    "\n",
    "test_datagen = ImageDataGenerator(rescale=1./255)\n",
    "test_generator = test_datagen.flow_from_directory(\n",
    "        'data/handmade-mnist/test', \n",
    "        target_size=(24, 24), \n",
    "        batch_size=3, \n",
    "        class_mode='categorical') "
   ]
  },
  {
   "cell_type": "code",
   "execution_count": 5,
   "metadata": {},
   "outputs": [],
   "source": [
    "# Define model\n",
    "model = Sequential()\n",
    "\n",
    "model.add(Conv2D(filters=32, kernel_size=(3, 3), activation='relu', input_shape=(24, 24, 3)))\n",
    "model.add(Conv2D(filters=64, kernel_size=(3, 3), activation='relu'))\n",
    "model.add(MaxPooling2D(pool_size=(2, 2)))\n",
    "model.add(Flatten())\n",
    "model.add(Dense(units=128, activation='relu'))\n",
    "model.add(Dense(units=3, activation='softmax'))"
   ]
  },
  {
   "cell_type": "code",
   "execution_count": 6,
   "metadata": {},
   "outputs": [
    {
     "data": {
      "image/svg+xml": [
       "<svg height=\"543pt\" viewBox=\"0.00 0.00 310.00 543.00\" width=\"310pt\" xmlns=\"http://www.w3.org/2000/svg\" xmlns:xlink=\"http://www.w3.org/1999/xlink\">\n",
       "<g class=\"graph\" id=\"graph0\" transform=\"scale(1 1) rotate(0) translate(4 539)\">\n",
       "<title>G</title>\n",
       "<polygon fill=\"#ffffff\" points=\"-4,4 -4,-539 306,-539 306,4 -4,4\" stroke=\"transparent\"/>\n",
       "<!-- 4492802928 -->\n",
       "<g class=\"node\" id=\"node1\">\n",
       "<title>4492802928</title>\n",
       "<polygon fill=\"none\" points=\"32,-415.5 32,-461.5 270,-461.5 270,-415.5 32,-415.5\" stroke=\"#000000\"/>\n",
       "<text fill=\"#000000\" font-family=\"Times,serif\" font-size=\"14.00\" text-anchor=\"middle\" x=\"81.5\" y=\"-434.8\">conv2d_1: Conv2D</text>\n",
       "<polyline fill=\"none\" points=\"131,-415.5 131,-461.5 \" stroke=\"#000000\"/>\n",
       "<text fill=\"#000000\" font-family=\"Times,serif\" font-size=\"14.00\" text-anchor=\"middle\" x=\"154\" y=\"-446.3\">input:</text>\n",
       "<polyline fill=\"none\" points=\"131,-438.5 177,-438.5 \" stroke=\"#000000\"/>\n",
       "<text fill=\"#000000\" font-family=\"Times,serif\" font-size=\"14.00\" text-anchor=\"middle\" x=\"154\" y=\"-423.3\">output:</text>\n",
       "<polyline fill=\"none\" points=\"177,-415.5 177,-461.5 \" stroke=\"#000000\"/>\n",
       "<text fill=\"#000000\" font-family=\"Times,serif\" font-size=\"14.00\" text-anchor=\"middle\" x=\"223.5\" y=\"-446.3\">(None, 24, 24, 3)</text>\n",
       "<polyline fill=\"none\" points=\"177,-438.5 270,-438.5 \" stroke=\"#000000\"/>\n",
       "<text fill=\"#000000\" font-family=\"Times,serif\" font-size=\"14.00\" text-anchor=\"middle\" x=\"223.5\" y=\"-423.3\">(None, 22, 22, 32)</text>\n",
       "</g>\n",
       "<!-- 4402986456 -->\n",
       "<g class=\"node\" id=\"node2\">\n",
       "<title>4402986456</title>\n",
       "<polygon fill=\"none\" points=\"32,-332.5 32,-378.5 270,-378.5 270,-332.5 32,-332.5\" stroke=\"#000000\"/>\n",
       "<text fill=\"#000000\" font-family=\"Times,serif\" font-size=\"14.00\" text-anchor=\"middle\" x=\"81.5\" y=\"-351.8\">conv2d_2: Conv2D</text>\n",
       "<polyline fill=\"none\" points=\"131,-332.5 131,-378.5 \" stroke=\"#000000\"/>\n",
       "<text fill=\"#000000\" font-family=\"Times,serif\" font-size=\"14.00\" text-anchor=\"middle\" x=\"154\" y=\"-363.3\">input:</text>\n",
       "<polyline fill=\"none\" points=\"131,-355.5 177,-355.5 \" stroke=\"#000000\"/>\n",
       "<text fill=\"#000000\" font-family=\"Times,serif\" font-size=\"14.00\" text-anchor=\"middle\" x=\"154\" y=\"-340.3\">output:</text>\n",
       "<polyline fill=\"none\" points=\"177,-332.5 177,-378.5 \" stroke=\"#000000\"/>\n",
       "<text fill=\"#000000\" font-family=\"Times,serif\" font-size=\"14.00\" text-anchor=\"middle\" x=\"223.5\" y=\"-363.3\">(None, 22, 22, 32)</text>\n",
       "<polyline fill=\"none\" points=\"177,-355.5 270,-355.5 \" stroke=\"#000000\"/>\n",
       "<text fill=\"#000000\" font-family=\"Times,serif\" font-size=\"14.00\" text-anchor=\"middle\" x=\"223.5\" y=\"-340.3\">(None, 20, 20, 64)</text>\n",
       "</g>\n",
       "<!-- 4492802928&#45;&gt;4402986456 -->\n",
       "<g class=\"edge\" id=\"edge2\">\n",
       "<title>4492802928-&gt;4402986456</title>\n",
       "<path d=\"M151,-415.3799C151,-407.1745 151,-397.7679 151,-388.8786\" fill=\"none\" stroke=\"#000000\"/>\n",
       "<polygon fill=\"#000000\" points=\"154.5001,-388.784 151,-378.784 147.5001,-388.784 154.5001,-388.784\" stroke=\"#000000\"/>\n",
       "</g>\n",
       "<!-- 4493020912 -->\n",
       "<g class=\"node\" id=\"node3\">\n",
       "<title>4493020912</title>\n",
       "<polygon fill=\"none\" points=\"0,-249.5 0,-295.5 302,-295.5 302,-249.5 0,-249.5\" stroke=\"#000000\"/>\n",
       "<text fill=\"#000000\" font-family=\"Times,serif\" font-size=\"14.00\" text-anchor=\"middle\" x=\"81.5\" y=\"-268.8\">max_pooling2d_1: MaxPooling2D</text>\n",
       "<polyline fill=\"none\" points=\"163,-249.5 163,-295.5 \" stroke=\"#000000\"/>\n",
       "<text fill=\"#000000\" font-family=\"Times,serif\" font-size=\"14.00\" text-anchor=\"middle\" x=\"186\" y=\"-280.3\">input:</text>\n",
       "<polyline fill=\"none\" points=\"163,-272.5 209,-272.5 \" stroke=\"#000000\"/>\n",
       "<text fill=\"#000000\" font-family=\"Times,serif\" font-size=\"14.00\" text-anchor=\"middle\" x=\"186\" y=\"-257.3\">output:</text>\n",
       "<polyline fill=\"none\" points=\"209,-249.5 209,-295.5 \" stroke=\"#000000\"/>\n",
       "<text fill=\"#000000\" font-family=\"Times,serif\" font-size=\"14.00\" text-anchor=\"middle\" x=\"255.5\" y=\"-280.3\">(None, 20, 20, 64)</text>\n",
       "<polyline fill=\"none\" points=\"209,-272.5 302,-272.5 \" stroke=\"#000000\"/>\n",
       "<text fill=\"#000000\" font-family=\"Times,serif\" font-size=\"14.00\" text-anchor=\"middle\" x=\"255.5\" y=\"-257.3\">(None, 10, 10, 64)</text>\n",
       "</g>\n",
       "<!-- 4402986456&#45;&gt;4493020912 -->\n",
       "<g class=\"edge\" id=\"edge3\">\n",
       "<title>4402986456-&gt;4493020912</title>\n",
       "<path d=\"M151,-332.3799C151,-324.1745 151,-314.7679 151,-305.8786\" fill=\"none\" stroke=\"#000000\"/>\n",
       "<polygon fill=\"#000000\" points=\"154.5001,-305.784 151,-295.784 147.5001,-305.784 154.5001,-305.784\" stroke=\"#000000\"/>\n",
       "</g>\n",
       "<!-- 4492842208 -->\n",
       "<g class=\"node\" id=\"node4\">\n",
       "<title>4492842208</title>\n",
       "<polygon fill=\"none\" points=\"37.5,-166.5 37.5,-212.5 264.5,-212.5 264.5,-166.5 37.5,-166.5\" stroke=\"#000000\"/>\n",
       "<text fill=\"#000000\" font-family=\"Times,serif\" font-size=\"14.00\" text-anchor=\"middle\" x=\"81.5\" y=\"-185.8\">flatten_1: Flatten</text>\n",
       "<polyline fill=\"none\" points=\"125.5,-166.5 125.5,-212.5 \" stroke=\"#000000\"/>\n",
       "<text fill=\"#000000\" font-family=\"Times,serif\" font-size=\"14.00\" text-anchor=\"middle\" x=\"148.5\" y=\"-197.3\">input:</text>\n",
       "<polyline fill=\"none\" points=\"125.5,-189.5 171.5,-189.5 \" stroke=\"#000000\"/>\n",
       "<text fill=\"#000000\" font-family=\"Times,serif\" font-size=\"14.00\" text-anchor=\"middle\" x=\"148.5\" y=\"-174.3\">output:</text>\n",
       "<polyline fill=\"none\" points=\"171.5,-166.5 171.5,-212.5 \" stroke=\"#000000\"/>\n",
       "<text fill=\"#000000\" font-family=\"Times,serif\" font-size=\"14.00\" text-anchor=\"middle\" x=\"218\" y=\"-197.3\">(None, 10, 10, 64)</text>\n",
       "<polyline fill=\"none\" points=\"171.5,-189.5 264.5,-189.5 \" stroke=\"#000000\"/>\n",
       "<text fill=\"#000000\" font-family=\"Times,serif\" font-size=\"14.00\" text-anchor=\"middle\" x=\"218\" y=\"-174.3\">(None, 6400)</text>\n",
       "</g>\n",
       "<!-- 4493020912&#45;&gt;4492842208 -->\n",
       "<g class=\"edge\" id=\"edge4\">\n",
       "<title>4493020912-&gt;4492842208</title>\n",
       "<path d=\"M151,-249.3799C151,-241.1745 151,-231.7679 151,-222.8786\" fill=\"none\" stroke=\"#000000\"/>\n",
       "<polygon fill=\"#000000\" points=\"154.5001,-222.784 151,-212.784 147.5001,-222.784 154.5001,-222.784\" stroke=\"#000000\"/>\n",
       "</g>\n",
       "<!-- 4492842320 -->\n",
       "<g class=\"node\" id=\"node5\">\n",
       "<title>4492842320</title>\n",
       "<polygon fill=\"none\" points=\"50.5,-83.5 50.5,-129.5 251.5,-129.5 251.5,-83.5 50.5,-83.5\" stroke=\"#000000\"/>\n",
       "<text fill=\"#000000\" font-family=\"Times,serif\" font-size=\"14.00\" text-anchor=\"middle\" x=\"92\" y=\"-102.8\">dense_1: Dense</text>\n",
       "<polyline fill=\"none\" points=\"133.5,-83.5 133.5,-129.5 \" stroke=\"#000000\"/>\n",
       "<text fill=\"#000000\" font-family=\"Times,serif\" font-size=\"14.00\" text-anchor=\"middle\" x=\"156.5\" y=\"-114.3\">input:</text>\n",
       "<polyline fill=\"none\" points=\"133.5,-106.5 179.5,-106.5 \" stroke=\"#000000\"/>\n",
       "<text fill=\"#000000\" font-family=\"Times,serif\" font-size=\"14.00\" text-anchor=\"middle\" x=\"156.5\" y=\"-91.3\">output:</text>\n",
       "<polyline fill=\"none\" points=\"179.5,-83.5 179.5,-129.5 \" stroke=\"#000000\"/>\n",
       "<text fill=\"#000000\" font-family=\"Times,serif\" font-size=\"14.00\" text-anchor=\"middle\" x=\"215.5\" y=\"-114.3\">(None, 6400)</text>\n",
       "<polyline fill=\"none\" points=\"179.5,-106.5 251.5,-106.5 \" stroke=\"#000000\"/>\n",
       "<text fill=\"#000000\" font-family=\"Times,serif\" font-size=\"14.00\" text-anchor=\"middle\" x=\"215.5\" y=\"-91.3\">(None, 128)</text>\n",
       "</g>\n",
       "<!-- 4492842208&#45;&gt;4492842320 -->\n",
       "<g class=\"edge\" id=\"edge5\">\n",
       "<title>4492842208-&gt;4492842320</title>\n",
       "<path d=\"M151,-166.3799C151,-158.1745 151,-148.7679 151,-139.8786\" fill=\"none\" stroke=\"#000000\"/>\n",
       "<polygon fill=\"#000000\" points=\"154.5001,-139.784 151,-129.784 147.5001,-139.784 154.5001,-139.784\" stroke=\"#000000\"/>\n",
       "</g>\n",
       "<!-- 4493130272 -->\n",
       "<g class=\"node\" id=\"node6\">\n",
       "<title>4493130272</title>\n",
       "<polygon fill=\"none\" points=\"53,-.5 53,-46.5 249,-46.5 249,-.5 53,-.5\" stroke=\"#000000\"/>\n",
       "<text fill=\"#000000\" font-family=\"Times,serif\" font-size=\"14.00\" text-anchor=\"middle\" x=\"94.5\" y=\"-19.8\">dense_2: Dense</text>\n",
       "<polyline fill=\"none\" points=\"136,-.5 136,-46.5 \" stroke=\"#000000\"/>\n",
       "<text fill=\"#000000\" font-family=\"Times,serif\" font-size=\"14.00\" text-anchor=\"middle\" x=\"159\" y=\"-31.3\">input:</text>\n",
       "<polyline fill=\"none\" points=\"136,-23.5 182,-23.5 \" stroke=\"#000000\"/>\n",
       "<text fill=\"#000000\" font-family=\"Times,serif\" font-size=\"14.00\" text-anchor=\"middle\" x=\"159\" y=\"-8.3\">output:</text>\n",
       "<polyline fill=\"none\" points=\"182,-.5 182,-46.5 \" stroke=\"#000000\"/>\n",
       "<text fill=\"#000000\" font-family=\"Times,serif\" font-size=\"14.00\" text-anchor=\"middle\" x=\"215.5\" y=\"-31.3\">(None, 128)</text>\n",
       "<polyline fill=\"none\" points=\"182,-23.5 249,-23.5 \" stroke=\"#000000\"/>\n",
       "<text fill=\"#000000\" font-family=\"Times,serif\" font-size=\"14.00\" text-anchor=\"middle\" x=\"215.5\" y=\"-8.3\">(None, 3)</text>\n",
       "</g>\n",
       "<!-- 4492842320&#45;&gt;4493130272 -->\n",
       "<g class=\"edge\" id=\"edge6\">\n",
       "<title>4492842320-&gt;4493130272</title>\n",
       "<path d=\"M151,-83.3799C151,-75.1745 151,-65.7679 151,-56.8786\" fill=\"none\" stroke=\"#000000\"/>\n",
       "<polygon fill=\"#000000\" points=\"154.5001,-56.784 151,-46.784 147.5001,-56.784 154.5001,-56.784\" stroke=\"#000000\"/>\n",
       "</g>\n",
       "<!-- 4492802536 -->\n",
       "<g class=\"node\" id=\"node7\">\n",
       "<title>4492802536</title>\n",
       "<polygon fill=\"none\" points=\"116.5,-498.5 116.5,-534.5 185.5,-534.5 185.5,-498.5 116.5,-498.5\" stroke=\"#000000\"/>\n",
       "<text fill=\"#000000\" font-family=\"Times,serif\" font-size=\"14.00\" text-anchor=\"middle\" x=\"151\" y=\"-512.8\">4492802536</text>\n",
       "</g>\n",
       "<!-- 4492802536&#45;&gt;4492802928 -->\n",
       "<g class=\"edge\" id=\"edge1\">\n",
       "<title>4492802536-&gt;4492802928</title>\n",
       "<path d=\"M151,-498.4092C151,-490.4308 151,-480.795 151,-471.606\" fill=\"none\" stroke=\"#000000\"/>\n",
       "<polygon fill=\"#000000\" points=\"154.5001,-471.5333 151,-461.5333 147.5001,-471.5334 154.5001,-471.5333\" stroke=\"#000000\"/>\n",
       "</g>\n",
       "</g>\n",
       "</svg>"
      ],
      "text/plain": [
       "<IPython.core.display.SVG object>"
      ]
     },
     "execution_count": 6,
     "metadata": {},
     "output_type": "execute_result"
    }
   ],
   "source": [
    "from IPython.display import SVG\n",
    "from keras.utils.vis_utils import model_to_dot\n",
    "\n",
    "%matplotlib inline\n",
    "\n",
    "# Visualize the model\n",
    "SVG(model_to_dot(model, show_shapes=True).create(prog='dot', format='svg'))"
   ]
  },
  {
   "cell_type": "code",
   "execution_count": 7,
   "metadata": {},
   "outputs": [],
   "source": [
    "# Configure settings for the upcoming train\n",
    "model.compile(loss='categorical_crossentropy', optimizer='adam', metrics=['accuracy'])"
   ]
  },
  {
   "cell_type": "code",
   "execution_count": 8,
   "metadata": {},
   "outputs": [
    {
     "name": "stdout",
     "output_type": "stream",
     "text": [
      "Epoch 1/10\n",
      "15/15 [==============================] - 1s 63ms/step - loss: 1.3270 - acc: 0.2222 - val_loss: 1.0794 - val_acc: 0.4000\n",
      "Epoch 2/10\n",
      "15/15 [==============================] - 0s 32ms/step - loss: 1.1005 - acc: 0.3778 - val_loss: 1.0502 - val_acc: 0.6667\n",
      "Epoch 3/10\n",
      "15/15 [==============================] - 0s 28ms/step - loss: 1.0740 - acc: 0.5111 - val_loss: 1.0084 - val_acc: 0.3333\n",
      "Epoch 4/10\n",
      "15/15 [==============================] - 0s 31ms/step - loss: 0.9840 - acc: 0.6222 - val_loss: 0.9228 - val_acc: 0.3333\n",
      "Epoch 5/10\n",
      "15/15 [==============================] - 0s 28ms/step - loss: 0.8740 - acc: 0.5111 - val_loss: 0.9216 - val_acc: 0.4667\n",
      "Epoch 6/10\n",
      "15/15 [==============================] - 0s 28ms/step - loss: 0.8084 - acc: 0.6667 - val_loss: 1.4686 - val_acc: 0.3333\n",
      "Epoch 7/10\n",
      "15/15 [==============================] - 0s 27ms/step - loss: 0.6766 - acc: 0.6444 - val_loss: 1.2702 - val_acc: 0.6667\n",
      "Epoch 8/10\n",
      "15/15 [==============================] - 0s 26ms/step - loss: 0.8542 - acc: 0.6222 - val_loss: 1.3216 - val_acc: 0.3333\n",
      "Epoch 9/10\n",
      "15/15 [==============================] - 0s 31ms/step - loss: 0.6875 - acc: 0.6889 - val_loss: 0.9218 - val_acc: 0.6667\n",
      "Epoch 10/10\n",
      "15/15 [==============================] - 0s 27ms/step - loss: 0.6971 - acc: 0.7333 - val_loss: 0.6505 - val_acc: 0.6667\n"
     ]
    },
    {
     "data": {
      "text/plain": [
       "<keras.callbacks.History at 0x10ca0fe80>"
      ]
     },
     "execution_count": 8,
     "metadata": {},
     "output_type": "execute_result"
    }
   ],
   "source": [
    "# Train the model\n",
    "model.fit_generator(\n",
    "        train_generator, \n",
    "        steps_per_epoch=15,\n",
    "        epochs=10,\n",
    "        validation_data=test_generator,\n",
    "        validation_steps=5)"
   ]
  },
  {
   "cell_type": "code",
   "execution_count": 9,
   "metadata": {},
   "outputs": [
    {
     "name": "stdout",
     "output_type": "stream",
     "text": [
      "acc: 66.67%\n"
     ]
    }
   ],
   "source": [
    "# Evaluate the model\n",
    "scores = model.evaluate_generator(test_generator, steps=5)\n",
    "print(\"%s: %.2f%%\" %(model.metrics_names[1], scores[1]*100))"
   ]
  },
  {
   "cell_type": "code",
   "execution_count": null,
   "metadata": {},
   "outputs": [],
   "source": []
  }
 ],
 "metadata": {
  "kernelspec": {
   "display_name": "Python 3",
   "language": "python",
   "name": "python3"
  },
  "language_info": {
   "codemirror_mode": {
    "name": "ipython",
    "version": 3
   },
   "file_extension": ".py",
   "mimetype": "text/x-python",
   "name": "python",
   "nbconvert_exporter": "python",
   "pygments_lexer": "ipython3",
   "version": "3.6.5"
  }
 },
 "nbformat": 4,
 "nbformat_minor": 2
}
