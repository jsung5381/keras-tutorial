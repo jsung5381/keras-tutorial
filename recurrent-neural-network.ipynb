{
 "cells": [
  {
   "cell_type": "code",
   "execution_count": 1,
   "metadata": {
    "slideshow": {
     "slide_type": "-"
    }
   },
   "outputs": [],
   "source": [
    "# Recurrent Neural Network"
   ]
  },
  {
   "cell_type": "code",
   "execution_count": 2,
   "metadata": {},
   "outputs": [
    {
     "name": "stderr",
     "output_type": "stream",
     "text": [
      "Using TensorFlow backend.\n"
     ]
    }
   ],
   "source": [
    "import keras\n",
    "import numpy as np\n",
    "\n",
    "from keras.models import Sequential\n",
    "from keras.layers import Dense\n",
    "from keras.layers import LSTM\n",
    "from keras.utils import np_utils"
   ]
  },
  {
   "cell_type": "code",
   "execution_count": 3,
   "metadata": {},
   "outputs": [],
   "source": [
    "# Fix random seed\n",
    "np.random.seed(5)"
   ]
  },
  {
   "cell_type": "code",
   "execution_count": 4,
   "metadata": {},
   "outputs": [],
   "source": [
    "# 1. Define dataset\n",
    "\n",
    "# Code\n",
    "codes = [\n",
    "    'c4', 'd4', 'e4', 'f4', 'g4', 'a4', 'b4', \n",
    "    'c8', 'd8', 'e8', 'f8', 'g8', 'a8', 'b8'\n",
    "]\n",
    "\n",
    "# Sequence\n",
    "seq = [\n",
    "    'g8', 'e8', 'e4', 'f8', 'd8', 'd4', 'c8', 'd8', 'e8', 'f8', 'g8', 'g8', 'g4',\n",
    "    'g8', 'e8', 'e8', 'e8', 'f8', 'd8', 'd4', 'c8', 'e8', 'g8', 'g8', 'e8', 'e8', 'e4',\n",
    "    'd8', 'd8', 'd8', 'd8', 'd8', 'e8', 'f4', 'e8', 'e8', 'e8', 'e8', 'e8', 'f8', 'g4',\n",
    "    'g8', 'e8', 'e4', 'f8', 'd8', 'd4', 'c8', 'e8', 'g8', 'g8', 'e8', 'e8', 'e4'\n",
    "]"
   ]
  },
  {
   "cell_type": "code",
   "execution_count": 5,
   "metadata": {},
   "outputs": [],
   "source": [
    "# Define a class and a function to use\n",
    "\n",
    "# Loss History Class\n",
    "class LossHistory(keras.callbacks.Callback):\n",
    "    def init(self):\n",
    "        self.losses = []\n",
    "        \n",
    "    def on_epoch_end(self, batch, logs={}):\n",
    "        self.losses.append(logs.get('loss'))\n",
    "\n",
    "# function to create dataset\n",
    "def seq2data(seq, window_size):\n",
    "    dataset = []\n",
    "    for i in range(len(seq)-window_size):\n",
    "        subset = seq[i:(i+window_size+1)]\n",
    "        dataset.append([codes.index(item) for item in subset])\n",
    "    return np.array(dataset)"
   ]
  },
  {
   "cell_type": "code",
   "execution_count": 6,
   "metadata": {},
   "outputs": [
    {
     "name": "stdout",
     "output_type": "stream",
     "text": [
      "x_train.shape: (50, 4, 1)\n",
      "y_train.shape: (50, 12)\n",
      "one hot encoding vector size is 12\n"
     ]
    }
   ],
   "source": [
    "# 2. Create dataset\n",
    "dataset = seq2data(seq, window_size=4)\n",
    "\n",
    "x_train = dataset[:, :-1]\n",
    "y_train = dataset[:, -1]\n",
    "\n",
    "max_idx = len(codes) - 1\n",
    "\n",
    "# Normalize input value\n",
    "x_train = x_train / float(max_idx)\n",
    "\n",
    "# Reshape input to (nb_samples, timestep, nb_characteristics)\n",
    "x_train = np.reshape(x_train, (50, 4, 1))\n",
    "\n",
    "# One hot encoding on label\n",
    "y_train = np_utils.to_categorical(y_train)\n",
    "one_hot_vec_size = y_train.shape[1]\n",
    "\n",
    "print('x_train.shape:', x_train.shape)\n",
    "print('y_train.shape:', y_train.shape)\n",
    "print(\"one hot encoding vector size is\", one_hot_vec_size)"
   ]
  },
  {
   "cell_type": "code",
   "execution_count": 7,
   "metadata": {},
   "outputs": [
    {
     "name": "stdout",
     "output_type": "stream",
     "text": [
      "_________________________________________________________________\n",
      "Layer (type)                 Output Shape              Param #   \n",
      "=================================================================\n",
      "lstm_1 (LSTM)                (None, 128)               66560     \n",
      "_________________________________________________________________\n",
      "dense_1 (Dense)              (None, 12)                1548      \n",
      "=================================================================\n",
      "Total params: 68,108\n",
      "Trainable params: 68,108\n",
      "Non-trainable params: 0\n",
      "_________________________________________________________________\n"
     ]
    }
   ],
   "source": [
    "# 3. Define model\n",
    "model = Sequential()\n",
    "model.add(LSTM(units=128, input_shape=(4, 1)))\n",
    "model.add(Dense(one_hot_vec_size, activation='softmax'))\n",
    "model.summary()"
   ]
  },
  {
   "cell_type": "code",
   "execution_count": 8,
   "metadata": {},
   "outputs": [],
   "source": [
    "# 4. Configure model training phase\n",
    "model.compile(loss='categorical_crossentropy', optimizer='adam', metrics=['accuracy'])"
   ]
  },
  {
   "cell_type": "code",
   "execution_count": 9,
   "metadata": {},
   "outputs": [],
   "source": [
    "history = LossHistory()\n",
    "history.init()"
   ]
  },
  {
   "cell_type": "code",
   "execution_count": 10,
   "metadata": {},
   "outputs": [
    {
     "name": "stdout",
     "output_type": "stream",
     "text": [
      "Epoch 1/5\n",
      " - 1s - loss: 2.4843 - acc: 0.1400\n",
      "Epoch 2/5\n",
      " - 0s - loss: 2.4462 - acc: 0.2400\n",
      "Epoch 3/5\n",
      " - 0s - loss: 2.4074 - acc: 0.3400\n",
      "Epoch 4/5\n",
      " - 0s - loss: 2.3656 - acc: 0.3400\n",
      "Epoch 5/5\n",
      " - 0s - loss: 2.3119 - acc: 0.3400\n"
     ]
    },
    {
     "data": {
      "text/plain": [
       "<keras.callbacks.History at 0x114e9ab38>"
      ]
     },
     "execution_count": 10,
     "metadata": {},
     "output_type": "execute_result"
    }
   ],
   "source": [
    "# 5. Train model\n",
    "model.fit(x_train, y_train, epochs=5, batch_size=14, verbose=2, callbacks=[history])"
   ]
  },
  {
   "cell_type": "code",
   "execution_count": 11,
   "metadata": {},
   "outputs": [
    {
     "data": {
      "image/png": "[encoded data removed]",
      "text/plain": [
       "<Figure size 432x288 with 1 Axes>"
      ]
     },
     "metadata": {},
     "output_type": "display_data"
    }
   ],
   "source": [
    "# 6. Visualize training phase\n",
    "%matplotlib inline\n",
    "import matplotlib.pyplot as plt\n",
    "\n",
    "plt.plot(history.losses)\n",
    "plt.ylabel('loss')\n",
    "plt.xlabel('epoch')\n",
    "plt.legend(['train'], loc='upper right')\n",
    "plt.show()"
   ]
  },
  {
   "cell_type": "code",
   "execution_count": 12,
   "metadata": {},
   "outputs": [
    {
     "name": "stdout",
     "output_type": "stream",
     "text": [
      "50/50 [==============================] - 0s 3ms/step\n",
      "acc: 34.00%\n"
     ]
    }
   ],
   "source": [
    "# 7. Evaluate model\n",
    "scores = model.evaluate(x_train, y_train)\n",
    "print(\"%s: %.2f%%\" %(model.metrics_names[1], scores[1]*100))"
   ]
  },
  {
   "cell_type": "code",
   "execution_count": 13,
   "metadata": {},
   "outputs": [
    {
     "name": "stdout",
     "output_type": "stream",
     "text": [
      "one step prediction :  ['g8', 'e8', 'e4', 'f8', 'e8', 'e8', 'e8', 'e8', 'e8', 'e8', 'e8', 'e8', 'e8', 'e8', 'e8', 'e8', 'e8', 'e8', 'e8', 'e8', 'e8', 'e8', 'e8', 'e8', 'e8', 'e8', 'e8', 'e8', 'e8', 'e8', 'e8', 'e8', 'e8', 'e8', 'e8', 'e8', 'e8', 'e8', 'e8', 'e8', 'e8', 'e8', 'e8', 'e8', 'e8', 'e8', 'e8', 'e8', 'e8', 'e8', 'e8', 'e8', 'e8', 'e8']\n"
     ]
    }
   ],
   "source": [
    "# 8. Use the model to predict\n",
    "\n",
    "pred_count = 50\n",
    "\n",
    "seq_out = ['g8', 'e8', 'e4', 'f8']\n",
    "pred_out = model.predict(x_train)\n",
    "\n",
    "for i in range(pred_count):\n",
    "    idx = np.argmax(pred_out[i])\n",
    "    seq_out.append(codes[idx])\n",
    "    \n",
    "print(\"one step prediction : \", seq_out)"
   ]
  },
  {
   "cell_type": "code",
   "execution_count": null,
   "metadata": {},
   "outputs": [],
   "source": []
  }
 ],
 "metadata": {
  "kernelspec": {
   "display_name": "Python 3",
   "language": "python",
   "name": "python3"
  },
  "language_info": {
   "codemirror_mode": {
    "name": "ipython",
    "version": 3
   },
   "file_extension": ".py",
   "mimetype": "text/x-python",
   "name": "python",
   "nbconvert_exporter": "python",
   "pygments_lexer": "ipython3",
   "version": "3.6.5"
  }
 },
 "nbformat": 4,
 "nbformat_minor": 2
}
