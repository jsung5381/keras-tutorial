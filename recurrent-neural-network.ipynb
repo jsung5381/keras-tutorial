{
 "cells": [
  {
   "cell_type": "code",
   "execution_count": 1,
   "metadata": {},
   "outputs": [],
   "source": [
    "# Recurrent Neural Network"
   ]
  },
  {
   "cell_type": "code",
   "execution_count": 2,
   "metadata": {},
   "outputs": [
    {
     "name": "stderr",
     "output_type": "stream",
     "text": [
      "Using TensorFlow backend.\n"
     ]
    }
   ],
   "source": [
    "# 0. Import modules to use\n",
    "import keras\n",
    "from keras.models import Sequential\n",
    "from keras.layers import Dense\n",
    "from keras.utils import np_utils\n",
    "import numpy as np"
   ]
  },
  {
   "cell_type": "code",
   "execution_count": 3,
   "metadata": {},
   "outputs": [],
   "source": [
    "# Fix random seed\n",
    "np.random.seed(5)"
   ]
  },
  {
   "cell_type": "code",
   "execution_count": 4,
   "metadata": {},
   "outputs": [],
   "source": [
    "# 1. Define dataset\n",
    "\n",
    "# Code\n",
    "codes = [\n",
    "    'c4', 'd4', 'e4', 'f4', 'g4', 'a4', 'b4', \n",
    "    'c8', 'd8', 'e8', 'f8', 'g8', 'a8', 'b8'\n",
    "]\n",
    "\n",
    "# Sequence\n",
    "seq = [\n",
    "    'g8', 'e8', 'e4', 'f8', 'd8', 'd4', 'c8', 'd8', 'e8', 'f8', 'g8', 'g8', 'g4',\n",
    "    'g8', 'e8', 'e8', 'e8', 'f8', 'd8', 'd4', 'c8', 'e8', 'g8', 'g8', 'e8', 'e8', 'e4',\n",
    "    'd8', 'd8', 'd8', 'd8', 'd8', 'e8', 'f4', 'e8', 'e8', 'e8', 'e8', 'e8', 'f8', 'g4',\n",
    "    'g8', 'e8', 'e4', 'f8', 'd8', 'd4', 'c8', 'e8', 'g8', 'g8', 'e8', 'e8', 'e4'\n",
    "]"
   ]
  },
  {
   "cell_type": "code",
   "execution_count": 5,
   "metadata": {},
   "outputs": [],
   "source": [
    "# Define a class and a function to use\n",
    "\n",
    "# Loss History Class\n",
    "class LossHistory(keras.callbacks.Callback):\n",
    "    def init(self):\n",
    "        self.losses = []\n",
    "        \n",
    "    def on_epoch_end(self, batch, logs={}):\n",
    "        self.losses.append(logs.get('loss'))\n",
    "\n",
    "# function to create dataset\n",
    "def seq2data(seq, window_size):\n",
    "    dataset = []\n",
    "    for i in range(len(seq)-window_size):\n",
    "        subset = seq[i:(i+window_size+1)]\n",
    "        dataset.append([codes.index(item) for item in subset])\n",
    "    return np.array(dataset)"
   ]
  },
  {
   "cell_type": "code",
   "execution_count": 6,
   "metadata": {},
   "outputs": [
    {
     "name": "stdout",
     "output_type": "stream",
     "text": [
      "one hot encoding vector size is 12\n"
     ]
    }
   ],
   "source": [
    "# 2. Create dataset\n",
    "dataset = seq2data(seq, window_size=4)\n",
    "\n",
    "x_train = dataset[:, :-1]\n",
    "y_train = dataset[:, -1]\n",
    "\n",
    "max_idx = len(codes) - 1\n",
    "\n",
    "# Normalize input value\n",
    "x_train = x_train / float(max_idx)\n",
    "\n",
    "# one hot encoding on label\n",
    "y_train = np_utils.to_categorical(y_train)\n",
    "one_hot_vec_size = y_train.shape[1]\n",
    "\n",
    "print(\"one hot encoding vector size is\", one_hot_vec_size)"
   ]
  },
  {
   "cell_type": "code",
   "execution_count": 7,
   "metadata": {},
   "outputs": [],
   "source": [
    "# 3. Define model\n",
    "model = Sequential()\n",
    "model.add(Dense(128, activation='relu', input_dim=4))\n",
    "model.add(Dense(128, activation='relu'))\n",
    "model.add(Dense(one_hot_vec_size, activation='softmax'))"
   ]
  },
  {
   "cell_type": "code",
   "execution_count": 8,
   "metadata": {},
   "outputs": [],
   "source": [
    "# 4. Configure model training phase\n",
    "model.compile(loss='categorical_crossentropy', optimizer='adam', metrics=['accuracy'])"
   ]
  },
  {
   "cell_type": "code",
   "execution_count": 9,
   "metadata": {},
   "outputs": [],
   "source": [
    "history = LossHistory()\n",
    "history.init()"
   ]
  },
  {
   "cell_type": "code",
   "execution_count": 10,
   "metadata": {},
   "outputs": [
    {
     "name": "stdout",
     "output_type": "stream",
     "text": [
      "Epoch 1/10\n",
      " - 0s - loss: 2.4689 - acc: 0.2200\n",
      "Epoch 2/10\n",
      " - 0s - loss: 2.3615 - acc: 0.3400\n",
      "Epoch 3/10\n",
      " - 0s - loss: 2.2763 - acc: 0.3400\n",
      "Epoch 4/10\n",
      " - 0s - loss: 2.1970 - acc: 0.3400\n",
      "Epoch 5/10\n",
      " - 0s - loss: 2.1172 - acc: 0.3400\n",
      "Epoch 6/10\n",
      " - 0s - loss: 2.0562 - acc: 0.3400\n",
      "Epoch 7/10\n",
      " - 0s - loss: 1.9931 - acc: 0.3400\n",
      "Epoch 8/10\n",
      " - 0s - loss: 1.9590 - acc: 0.3400\n",
      "Epoch 9/10\n",
      " - 0s - loss: 1.9281 - acc: 0.3400\n",
      "Epoch 10/10\n",
      " - 0s - loss: 1.9097 - acc: 0.3400\n"
     ]
    },
    {
     "data": {
      "text/plain": [
       "<keras.callbacks.History at 0x11a796320>"
      ]
     },
     "execution_count": 10,
     "metadata": {},
     "output_type": "execute_result"
    }
   ],
   "source": [
    "# 5. 모델 학습시키기\n",
    "model.fit(x_train, y_train, epochs=10, batch_size=10, verbose=2, callbacks=[history])"
   ]
  },
  {
   "cell_type": "code",
   "execution_count": 11,
   "metadata": {},
   "outputs": [
    {
     "data": {
      "image/png": "[encoded data removed]",
      "text/plain": [
       "<Figure size 432x288 with 1 Axes>"
      ]
     },
     "metadata": {},
     "output_type": "display_data"
    }
   ],
   "source": [
    "# 6. Visualize training phase\n",
    "%matplotlib inline\n",
    "import matplotlib.pyplot as plt\n",
    "\n",
    "plt.plot(history.losses)\n",
    "plt.ylabel('loss')\n",
    "plt.xlabel('epoch')\n",
    "plt.legend(['train'], loc='upper left')\n",
    "plt.show()"
   ]
  },
  {
   "cell_type": "code",
   "execution_count": 12,
   "metadata": {},
   "outputs": [
    {
     "name": "stdout",
     "output_type": "stream",
     "text": [
      "50/50 [==============================] - 0s 869us/step\n",
      "acc: 34.00%\n"
     ]
    }
   ],
   "source": [
    "# 7. Evaluate model\n",
    "scores = model.evaluate(x_train, y_train)\n",
    "print(\"%s: %.2f%%\" %(model.metrics_names[1], scores[1]*100))"
   ]
  },
  {
   "cell_type": "code",
   "execution_count": 13,
   "metadata": {},
   "outputs": [
    {
     "name": "stdout",
     "output_type": "stream",
     "text": [
      "one step prediction :  ['g8', 'e8', 'e4', 'f8', 'e8', 'e8', 'e8', 'e8', 'e8', 'e8', 'e8', 'e8', 'e8', 'e8', 'e8', 'e8', 'e8', 'e8', 'e8', 'e8', 'e8', 'e8', 'e8', 'e8', 'e8', 'e8', 'e8', 'e8', 'e8', 'e8', 'e8', 'e8', 'e8', 'e8', 'e8', 'e8', 'e8', 'e8', 'e8', 'e8', 'e8', 'e8', 'e8', 'e8', 'e8', 'e8', 'e8', 'e8', 'e8', 'e8', 'e8', 'e8', 'e8', 'e8']\n"
     ]
    }
   ],
   "source": [
    "# 8. Use the model to predict\n",
    "\n",
    "pred_count = 50\n",
    "\n",
    "seq_out = ['g8', 'e8', 'e4', 'f8']\n",
    "pred_out = model.predict(x_train)\n",
    "\n",
    "for i in range(pred_count):\n",
    "    idx = np.argmax(pred_out[i])\n",
    "    seq_out.append(codes[idx])\n",
    "    \n",
    "print(\"one step prediction : \", seq_out)"
   ]
  },
  {
   "cell_type": "code",
   "execution_count": null,
   "metadata": {},
   "outputs": [],
   "source": []
  }
 ],
 "metadata": {
  "kernelspec": {
   "display_name": "Python 3",
   "language": "python",
   "name": "python3"
  },
  "language_info": {
   "codemirror_mode": {
    "name": "ipython",
    "version": 3
   },
   "file_extension": ".py",
   "mimetype": "text/x-python",
   "name": "python",
   "nbconvert_exporter": "python",
   "pygments_lexer": "ipython3",
   "version": "3.6.5"
  }
 },
 "nbformat": 4,
 "nbformat_minor": 2
}
